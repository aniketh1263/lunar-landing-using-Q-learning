{
  "cells": [
    {
      "cell_type": "markdown",
      "metadata": {
        "id": "view-in-github",
        "colab_type": "text"
      },
      "source": [
        "<a href=\"https://colab.research.google.com/github/aniketh1263/lunar-landing-using-Q-learning/blob/main/My_Deep_Q_Learning_for_Lunar_Landing.ipynb\" target=\"_parent\"><img src=\"https://colab.research.google.com/assets/colab-badge.svg\" alt=\"Open In Colab\"/></a>"
      ]
    },
    {
      "cell_type": "markdown",
      "metadata": {
        "id": "LbZcI9ZXHl3a"
      },
      "source": [
        "# Deep Q-Learning for Lunar Landing"
      ]
    },
    {
      "cell_type": "markdown",
      "metadata": {
        "id": "E8yPRjteXgPb"
      },
      "source": [
        "## Part 0 - Installing the required packages and importing the libraries"
      ]
    },
    {
      "cell_type": "markdown",
      "metadata": {
        "id": "slEm5teGWjWU"
      },
      "source": [
        "### Installing Gymnasium"
      ]
    },
    {
      "cell_type": "code",
      "source": [
        "!pip install gymnasium"
      ],
      "metadata": {
        "colab": {
          "base_uri": "https://localhost:8080/"
        },
        "id": "M91Rio3X1-4J",
        "outputId": "e2d51ba7-94f2-4957-a786-9603bc24c555"
      },
      "execution_count": 7,
      "outputs": [
        {
          "output_type": "stream",
          "name": "stdout",
          "text": [
            "Collecting gymnasium\n",
            "  Downloading gymnasium-0.29.1-py3-none-any.whl.metadata (10 kB)\n",
            "Requirement already satisfied: numpy>=1.21.0 in /usr/local/lib/python3.10/dist-packages (from gymnasium) (1.26.4)\n",
            "Requirement already satisfied: cloudpickle>=1.2.0 in /usr/local/lib/python3.10/dist-packages (from gymnasium) (2.2.1)\n",
            "Requirement already satisfied: typing-extensions>=4.3.0 in /usr/local/lib/python3.10/dist-packages (from gymnasium) (4.12.2)\n",
            "Collecting farama-notifications>=0.0.1 (from gymnasium)\n",
            "  Downloading Farama_Notifications-0.0.4-py3-none-any.whl.metadata (558 bytes)\n",
            "Downloading gymnasium-0.29.1-py3-none-any.whl (953 kB)\n",
            "\u001b[2K   \u001b[90m━━━━━━━━━━━━━━━━━━━━━━━━━━━━━━━━━━━━━━━━\u001b[0m \u001b[32m953.9/953.9 kB\u001b[0m \u001b[31m20.7 MB/s\u001b[0m eta \u001b[36m0:00:00\u001b[0m\n",
            "\u001b[?25hDownloading Farama_Notifications-0.0.4-py3-none-any.whl (2.5 kB)\n",
            "Installing collected packages: farama-notifications, gymnasium\n",
            "Successfully installed farama-notifications-0.0.4 gymnasium-0.29.1\n"
          ]
        }
      ]
    },
    {
      "cell_type": "code",
      "execution_count": 4,
      "metadata": {
        "id": "dbnq3XpoKa_7",
        "colab": {
          "base_uri": "https://localhost:8080/"
        },
        "outputId": "f92504d6-9bb3-43ac-8d44-161e60bf78ed"
      },
      "outputs": [
        {
          "output_type": "stream",
          "name": "stdout",
          "text": [
            "Requirement already satisfied: gymnasium in /usr/local/lib/python3.10/dist-packages (0.29.1)\n",
            "Requirement already satisfied: numpy>=1.21.0 in /usr/local/lib/python3.10/dist-packages (from gymnasium) (1.26.4)\n",
            "Requirement already satisfied: cloudpickle>=1.2.0 in /usr/local/lib/python3.10/dist-packages (from gymnasium) (2.2.1)\n",
            "Requirement already satisfied: typing-extensions>=4.3.0 in /usr/local/lib/python3.10/dist-packages (from gymnasium) (4.12.2)\n",
            "Requirement already satisfied: farama-notifications>=0.0.1 in /usr/local/lib/python3.10/dist-packages (from gymnasium) (0.0.4)\n",
            "Requirement already satisfied: gymnasium[accept-rom-license,atari] in /usr/local/lib/python3.10/dist-packages (0.29.1)\n",
            "Requirement already satisfied: numpy>=1.21.0 in /usr/local/lib/python3.10/dist-packages (from gymnasium[accept-rom-license,atari]) (1.26.4)\n",
            "Requirement already satisfied: cloudpickle>=1.2.0 in /usr/local/lib/python3.10/dist-packages (from gymnasium[accept-rom-license,atari]) (2.2.1)\n",
            "Requirement already satisfied: typing-extensions>=4.3.0 in /usr/local/lib/python3.10/dist-packages (from gymnasium[accept-rom-license,atari]) (4.12.2)\n",
            "Requirement already satisfied: farama-notifications>=0.0.1 in /usr/local/lib/python3.10/dist-packages (from gymnasium[accept-rom-license,atari]) (0.0.4)\n",
            "Requirement already satisfied: autorom~=0.4.2 in /usr/local/lib/python3.10/dist-packages (from autorom[accept-rom-license]~=0.4.2; extra == \"accept-rom-license\"->gymnasium[accept-rom-license,atari]) (0.4.2)\n",
            "Requirement already satisfied: shimmy<1.0,>=0.1.0 in /usr/local/lib/python3.10/dist-packages (from shimmy[atari]<1.0,>=0.1.0; extra == \"atari\"->gymnasium[accept-rom-license,atari]) (0.2.1)\n",
            "Requirement already satisfied: click in /usr/local/lib/python3.10/dist-packages (from autorom~=0.4.2->autorom[accept-rom-license]~=0.4.2; extra == \"accept-rom-license\"->gymnasium[accept-rom-license,atari]) (8.1.7)\n",
            "Requirement already satisfied: requests in /usr/local/lib/python3.10/dist-packages (from autorom~=0.4.2->autorom[accept-rom-license]~=0.4.2; extra == \"accept-rom-license\"->gymnasium[accept-rom-license,atari]) (2.31.0)\n",
            "Requirement already satisfied: tqdm in /usr/local/lib/python3.10/dist-packages (from autorom~=0.4.2->autorom[accept-rom-license]~=0.4.2; extra == \"accept-rom-license\"->gymnasium[accept-rom-license,atari]) (4.66.4)\n",
            "Requirement already satisfied: AutoROM.accept-rom-license in /usr/local/lib/python3.10/dist-packages (from autorom[accept-rom-license]~=0.4.2; extra == \"accept-rom-license\"->gymnasium[accept-rom-license,atari]) (0.6.1)\n",
            "Requirement already satisfied: ale-py~=0.8.1 in /usr/local/lib/python3.10/dist-packages (from shimmy[atari]<1.0,>=0.1.0; extra == \"atari\"->gymnasium[accept-rom-license,atari]) (0.8.1)\n",
            "Requirement already satisfied: importlib-resources in /usr/local/lib/python3.10/dist-packages (from ale-py~=0.8.1->shimmy[atari]<1.0,>=0.1.0; extra == \"atari\"->gymnasium[accept-rom-license,atari]) (6.4.0)\n",
            "Requirement already satisfied: charset-normalizer<4,>=2 in /usr/local/lib/python3.10/dist-packages (from requests->autorom~=0.4.2->autorom[accept-rom-license]~=0.4.2; extra == \"accept-rom-license\"->gymnasium[accept-rom-license,atari]) (3.3.2)\n",
            "Requirement already satisfied: idna<4,>=2.5 in /usr/local/lib/python3.10/dist-packages (from requests->autorom~=0.4.2->autorom[accept-rom-license]~=0.4.2; extra == \"accept-rom-license\"->gymnasium[accept-rom-license,atari]) (3.7)\n",
            "Requirement already satisfied: urllib3<3,>=1.21.1 in /usr/local/lib/python3.10/dist-packages (from requests->autorom~=0.4.2->autorom[accept-rom-license]~=0.4.2; extra == \"accept-rom-license\"->gymnasium[accept-rom-license,atari]) (2.0.7)\n",
            "Requirement already satisfied: certifi>=2017.4.17 in /usr/local/lib/python3.10/dist-packages (from requests->autorom~=0.4.2->autorom[accept-rom-license]~=0.4.2; extra == \"accept-rom-license\"->gymnasium[accept-rom-license,atari]) (2024.7.4)\n",
            "Reading package lists... Done\n",
            "Building dependency tree... Done\n",
            "Reading state information... Done\n",
            "swig is already the newest version (4.0.2-1ubuntu1).\n",
            "0 upgraded, 0 newly installed, 0 to remove and 45 not upgraded.\n",
            "Requirement already satisfied: gymnasium[box2d] in /usr/local/lib/python3.10/dist-packages (0.29.1)\n",
            "Requirement already satisfied: numpy>=1.21.0 in /usr/local/lib/python3.10/dist-packages (from gymnasium[box2d]) (1.26.4)\n",
            "Requirement already satisfied: cloudpickle>=1.2.0 in /usr/local/lib/python3.10/dist-packages (from gymnasium[box2d]) (2.2.1)\n",
            "Requirement already satisfied: typing-extensions>=4.3.0 in /usr/local/lib/python3.10/dist-packages (from gymnasium[box2d]) (4.12.2)\n",
            "Requirement already satisfied: farama-notifications>=0.0.1 in /usr/local/lib/python3.10/dist-packages (from gymnasium[box2d]) (0.0.4)\n",
            "Requirement already satisfied: box2d-py==2.3.5 in /usr/local/lib/python3.10/dist-packages (from gymnasium[box2d]) (2.3.5)\n",
            "Requirement already satisfied: pygame>=2.1.3 in /usr/local/lib/python3.10/dist-packages (from gymnasium[box2d]) (2.6.0)\n",
            "Requirement already satisfied: swig==4.* in /usr/local/lib/python3.10/dist-packages (from gymnasium[box2d]) (4.2.1)\n"
          ]
        }
      ],
      "source": [
        "!pip install gymnasium\n",
        "!pip install \"gymnasium[atari, accept-rom-license]\"\n",
        "!apt-get install -y swig\n",
        "!pip install gymnasium[box2d]"
      ]
    },
    {
      "cell_type": "markdown",
      "metadata": {
        "id": "brqiMN3UW9T9"
      },
      "source": [
        "### Importing the libraries"
      ]
    },
    {
      "cell_type": "code",
      "execution_count": 5,
      "metadata": {
        "id": "mZaKXP_aMl9O"
      },
      "outputs": [],
      "source": [
        "import os\n",
        "import random\n",
        "import numpy as np\n",
        "import torch\n",
        "import torch.nn as nn\n",
        "import torch.optim as optim\n",
        "import torch.nn.functional as F\n",
        "import torch.autograd as autograd\n",
        "from torch.autograd import Variable\n",
        "from collections import deque, namedtuple"
      ]
    },
    {
      "cell_type": "markdown",
      "metadata": {
        "id": "EzlDKXvkXzGI"
      },
      "source": [
        "## Part 1 - Building the AI"
      ]
    },
    {
      "cell_type": "markdown",
      "metadata": {
        "id": "UtG6Zc83YYy3"
      },
      "source": [
        "### Creating the architecture of the Neural Network"
      ]
    },
    {
      "cell_type": "code",
      "source": [
        "class Network(nn.Module):\n",
        "  def __init__(self,state_size,action_size, seed=42):\n",
        "    super(Network,self).__init__()\n",
        "    self.seed=torch.manual_seed(seed)\n",
        "    self.fc1=nn.Linear(state_size, 64)\n",
        "    self.fc2=nn.Linear(64, 64)\n",
        "    self.fc3=nn.Linear(64, action_size)\n",
        "\n",
        "  def forward(self,state):\n",
        "    x=self.fc1(state)\n",
        "    x=F.relu(x)\n",
        "    x=self.fc2(x)\n",
        "    x=F.relu(x)\n",
        "    return self.fc3(x)\n",
        "\n",
        "\n"
      ],
      "metadata": {
        "id": "MTBp6SsnYWmr"
      },
      "execution_count": 6,
      "outputs": []
    },
    {
      "cell_type": "markdown",
      "metadata": {
        "id": "UxVrBnFWZKb1"
      },
      "source": [
        "## Part 2 - Training the AI"
      ]
    },
    {
      "cell_type": "markdown",
      "metadata": {
        "id": "T364fz9qZb2j"
      },
      "source": [
        "### Setting up the environment"
      ]
    },
    {
      "cell_type": "code",
      "source": [
        "import gymnasium as gym\n",
        "env = gym.make('LunarLander-v2')\n",
        "state_shape=env.observation_space.shape\n",
        "state_size=env.observation_space.shape[0]\n",
        "number_actions=env.action_space.n\n",
        "print('State shape: ',state_shape)\n",
        "print('State size: ',state_size)\n",
        "print('Number of actions: ',number_actions)\n"
      ],
      "metadata": {
        "colab": {
          "base_uri": "https://localhost:8080/"
        },
        "id": "MJ17DdYObYYo",
        "outputId": "a0073232-40ef-4b20-b0c9-c166af0aa8d4"
      },
      "execution_count": 7,
      "outputs": [
        {
          "output_type": "stream",
          "name": "stdout",
          "text": [
            "State shape:  (8,)\n",
            "State size:  8\n",
            "Number of actions:  4\n"
          ]
        }
      ]
    },
    {
      "cell_type": "markdown",
      "metadata": {
        "id": "c_dZmOIvZgj-"
      },
      "source": [
        "### Initializing the hyperparameters"
      ]
    },
    {
      "cell_type": "code",
      "source": [
        "learning_rate=5e-4\n",
        "minibatch_size=100\n",
        "discount_factor=0.99\n",
        "replay_buffer_size=int(1e5)\n",
        "interpolation_parameter=1e-3"
      ],
      "metadata": {
        "id": "ZXZ8rsWqbdrV"
      },
      "execution_count": 8,
      "outputs": []
    },
    {
      "cell_type": "markdown",
      "metadata": {
        "id": "8hD_Vs-bYnip"
      },
      "source": [
        "### Implementing Experience Replay"
      ]
    },
    {
      "cell_type": "code",
      "source": [
        "class ReplayMemory(object):\n",
        "\n",
        "  def __init__(self, capacity):\n",
        "    self.device = torch.device(\"cuda:0\" if torch.cuda.is_available() else \"cpu\")\n",
        "    self.capacity = capacity\n",
        "    self.memory = []\n",
        "\n",
        "  def push(self, event):\n",
        "    self.memory.append(event)\n",
        "    if len(self.memory) > self.capacity:\n",
        "      del self.memory[0]\n",
        "\n",
        "  def sample(self, batch_size):\n",
        "    experiences = random.sample(self.memory, k = batch_size)\n",
        "    states = torch.from_numpy(np.vstack([e[0] for e in experiences if e is not None])).float().to(self.device)\n",
        "    actions = torch.from_numpy(np.vstack([e[1] for e in experiences if e is not None])).long().to(self.device)\n",
        "    rewards = torch.from_numpy(np.vstack([e[2] for e in experiences if e is not None])).float().to(self.device)\n",
        "    next_states = torch.from_numpy(np.vstack([e[3] for e in experiences if e is not None])).float().to(self.device)\n",
        "    dones = torch.from_numpy(np.vstack([e[4] for e in experiences if e is not None]).astype(np.uint8)).float().to(self.device)\n",
        "    return states, next_states, actions, rewards, dones\n",
        "\n",
        "\n",
        "\n",
        "\n",
        "\n"
      ],
      "metadata": {
        "id": "_KxD-723enAU"
      },
      "execution_count": 9,
      "outputs": []
    },
    {
      "cell_type": "markdown",
      "metadata": {
        "id": "JmEkbFbUY6Jt"
      },
      "source": [
        "### Implementing the DQN class"
      ]
    },
    {
      "cell_type": "code",
      "source": [
        "class Agent():\n",
        "\n",
        "  def __init__(self, state_size, action_size):\n",
        "    self.device = torch.device(\"cuda:0\" if torch.cuda.is_available() else \"cpu\")\n",
        "    self.state_size = state_size\n",
        "    self.action_size = action_size\n",
        "    self.local_qnetwork = Network(state_size, action_size).to(self.device)\n",
        "    self.target_qnetwork = Network(state_size, action_size).to(self.device)\n",
        "    self.optimizer = optim.Adam(self.local_qnetwork.parameters(), lr = learning_rate)\n",
        "    self.memory = ReplayMemory(replay_buffer_size)\n",
        "    self.t_step = 0\n",
        "\n",
        "  def step(self, state, action, reward, next_state, done):\n",
        "    self.memory.push((state, action, reward, next_state, done))\n",
        "    self.t_step = (self.t_step + 1) % 4\n",
        "    if self.t_step == 0:\n",
        "      if len(self.memory.memory) > minibatch_size:\n",
        "        experiences = self.memory.sample(100)\n",
        "        self.learn(experiences, discount_factor)\n",
        "\n",
        "  def act(self, state, epsilon = 0.):\n",
        "    state = torch.from_numpy(state).float().unsqueeze(0).to(self.device)\n",
        "    self.local_qnetwork.eval()\n",
        "    with torch.no_grad():\n",
        "      action_values = self.local_qnetwork(state)\n",
        "    self.local_qnetwork.train()\n",
        "    if random.random() > epsilon:\n",
        "      return np.argmax(action_values.cpu().data.numpy())\n",
        "    else:\n",
        "      return random.choice(np.arange(self.action_size))\n",
        "\n",
        "  def learn(self, experiences, discount_factor):\n",
        "    states, next_states, actions, rewards, dones = experiences\n",
        "    next_q_targets = self.target_qnetwork(next_states).detach().max(1)[0].unsqueeze(1)\n",
        "    q_targets = rewards + discount_factor * next_q_targets * (1 - dones)\n",
        "    q_expected = self.local_qnetwork(states).gather(1, actions)\n",
        "    loss = F.mse_loss(q_expected, q_targets)\n",
        "    self.optimizer.zero_grad()\n",
        "    loss.backward()\n",
        "    self.optimizer.step()\n",
        "    self.soft_update(self.local_qnetwork, self.target_qnetwork, interpolation_parameter)\n",
        "\n",
        "  def soft_update(self, local_model, target_model, interpolation_parameter):\n",
        "    for target_param, local_param in zip(target_model.parameters(), local_model.parameters()):\n",
        "      target_param.data.copy_(interpolation_parameter * local_param.data + (1.0 - interpolation_parameter) * target_param.data)\n",
        "\n"
      ],
      "metadata": {
        "id": "jyjAwtB4hjK-"
      },
      "execution_count": 10,
      "outputs": []
    },
    {
      "cell_type": "markdown",
      "metadata": {
        "id": "o1tZElccZmf6"
      },
      "source": [
        "### Initializing the DQN agent"
      ]
    },
    {
      "cell_type": "code",
      "source": [
        "agent=Agent(state_size, number_actions)"
      ],
      "metadata": {
        "id": "GH0wffWQ0nX4"
      },
      "execution_count": 11,
      "outputs": []
    },
    {
      "cell_type": "markdown",
      "metadata": {
        "id": "E8v0PtUfaVQp"
      },
      "source": [
        "### Training the DQN agent"
      ]
    },
    {
      "cell_type": "code",
      "source": [],
      "metadata": {
        "id": "csj8J5FTaG6z"
      },
      "execution_count": null,
      "outputs": []
    },
    {
      "cell_type": "code",
      "source": [
        "number_episodes = 2000\n",
        "maximum_number_timesteps_per_episode = 1000\n",
        "epsilon_starting_value  = 1.0\n",
        "epsilon_ending_value  = 0.01\n",
        "epsilon_decay_value  = 0.995\n",
        "epsilon = epsilon_starting_value\n",
        "scores_on_100_episodes = deque(maxlen = 100)\n",
        "\n",
        "for episode in range(1, number_episodes + 1):\n",
        "  state, _ = env.reset()\n",
        "  score = 0\n",
        "  for t in range(maximum_number_timesteps_per_episode):\n",
        "    action = agent.act(state, epsilon)\n",
        "    next_state, reward, done, _, _ = env.step(action)\n",
        "    agent.step(state, action, reward, next_state, done)\n",
        "    state = next_state\n",
        "    score += reward\n",
        "    if done:\n",
        "      break\n",
        "  scores_on_100_episodes.append(score)\n",
        "  epsilon = max(epsilon_ending_value, epsilon_decay_value * epsilon)\n",
        "  print('\\rEpisode {}\\tAverage Score: {:.2f}'.format(episode, np.mean(scores_on_100_episodes)), end = \"\")\n",
        "  if episode % 100 == 0:\n",
        "    print('\\rEpisode {}\\tAverage Score: {:.2f}'.format(episode, np.mean(scores_on_100_episodes)))\n",
        "  if np.mean(scores_on_100_episodes) >= 200.0:\n",
        "    print('\\nEnvironment solved in {:d} episodes!\\tAverage Score: {:.2f}'.format(episode - 100, np.mean(scores_on_100_episodes)))\n",
        "    torch.save(agent.local_qnetwork.state_dict(), 'checkpoint.pth')\n",
        "    break\n",
        "\n"
      ],
      "metadata": {
        "colab": {
          "base_uri": "https://localhost:8080/"
        },
        "id": "UBnjVW4s3tWF",
        "outputId": "7b15ba9b-b83d-4233-86ac-b7cc4a2e451f"
      },
      "execution_count": 12,
      "outputs": [
        {
          "output_type": "stream",
          "name": "stdout",
          "text": [
            "Episode 100\tAverage Score: -168.05\n",
            "Episode 200\tAverage Score: -103.62\n",
            "Episode 300\tAverage Score: -36.55\n",
            "Episode 400\tAverage Score: -35.76\n",
            "Episode 500\tAverage Score: 90.97\n",
            "Episode 600\tAverage Score: 117.77\n",
            "Episode 700\tAverage Score: 159.96\n",
            "Episode 800\tAverage Score: 191.71\n",
            "Episode 812\tAverage Score: 206.23\n",
            "Environment solved in 712 episodes!\tAverage Score: 206.23\n"
          ]
        }
      ]
    },
    {
      "cell_type": "markdown",
      "metadata": {
        "id": "O8CNwdOTcCoP"
      },
      "source": [
        "## Part 3 - Visualizing the results"
      ]
    },
    {
      "cell_type": "code",
      "execution_count": 13,
      "metadata": {
        "id": "cb9nVvU2Okhk",
        "colab": {
          "base_uri": "https://localhost:8080/",
          "height": 458
        },
        "outputId": "7251d3ec-245a-499c-be97-05d0d1a1f563"
      },
      "outputs": [
        {
          "output_type": "stream",
          "name": "stderr",
          "text": [
            "WARNING:imageio_ffmpeg:IMAGEIO FFMPEG_WRITER WARNING: input image is not divisible by macro_block_size=16, resizing from (600, 400) to (608, 400) to ensure video compatibility with most codecs and players. To prevent resizing, make your input image divisible by the macro_block_size or set the macro_block_size to 1 (risking incompatibility).\n"
          ]
        },
        {
          "output_type": "display_data",
          "data": {
            "text/plain": [
              "<IPython.core.display.HTML object>"
            ],
            "text/html": [
              "<video alt=\"test\" autoplay\n",
              "                loop controls style=\"height: 400px;\">\n",
              "                <source src=\"data:video/mp4;base64,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\" type=\"video/mp4\" />\n",
              "             </video>"
            ]
          },
          "metadata": {}
        }
      ],
      "source": [
        "import glob\n",
        "import io\n",
        "import base64\n",
        "import imageio\n",
        "from IPython.display import HTML, display\n",
        "from gym.wrappers.monitoring.video_recorder import VideoRecorder\n",
        "\n",
        "def show_video_of_model(agent, env_name):\n",
        "    env = gym.make(env_name, render_mode='rgb_array')\n",
        "    state, _ = env.reset()\n",
        "    done = False\n",
        "    frames = []\n",
        "    while not done:\n",
        "        frame = env.render()\n",
        "        frames.append(frame)\n",
        "        action = agent.act(state)\n",
        "        state, reward, done, _, _ = env.step(action.item())\n",
        "    env.close()\n",
        "    imageio.mimsave('video.mp4', frames, fps=30)\n",
        "\n",
        "show_video_of_model(agent, 'LunarLander-v2')\n",
        "\n",
        "def show_video():\n",
        "    mp4list = glob.glob('*.mp4')\n",
        "    if len(mp4list) > 0:\n",
        "        mp4 = mp4list[0]\n",
        "        video = io.open(mp4, 'r+b').read()\n",
        "        encoded = base64.b64encode(video)\n",
        "        display(HTML(data='''<video alt=\"test\" autoplay\n",
        "                loop controls style=\"height: 400px;\">\n",
        "                <source src=\"data:video/mp4;base64,{0}\" type=\"video/mp4\" />\n",
        "             </video>'''.format(encoded.decode('ascii'))))\n",
        "    else:\n",
        "        print(\"Could not find video\")\n",
        "\n",
        "show_video()"
      ]
    }
  ],
  "metadata": {
    "colab": {
      "provenance": [],
      "collapsed_sections": [
        "UtG6Zc83YYy3",
        "T364fz9qZb2j",
        "c_dZmOIvZgj-",
        "8hD_Vs-bYnip",
        "E8v0PtUfaVQp"
      ],
      "include_colab_link": true
    },
    "kernelspec": {
      "display_name": "Python 3",
      "name": "python3"
    },
    "language_info": {
      "name": "python"
    }
  },
  "nbformat": 4,
  "nbformat_minor": 0
}